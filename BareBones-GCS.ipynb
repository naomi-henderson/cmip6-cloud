{
 "cells": [
  {
   "cell_type": "markdown",
   "metadata": {},
   "source": [
    "### Sample use of csv/dataframe catalog for new CMIP6 stores in gs://pangeo-cmip6 bucket\n",
    "\n",
    "N.B. Please follow the guidelines given here:\n",
    "    https://pcmdi.llnl.gov/CMIP6/TermsOfUse/TermsOfUse6-1.html \n",
    "for using and citing the CMIP6 data. \n",
    "\n",
    "The license attribute/key from the original netcdf files has been preserved in each zarr store. "
   ]
  },
  {
   "cell_type": "code",
   "execution_count": null,
   "metadata": {},
   "outputs": [],
   "source": [
    "import pandas as pd\n",
    "import xarray as xr\n",
    "import gcsfs  \n",
    "import qgrid  "
   ]
  },
  {
   "cell_type": "code",
   "execution_count": null,
   "metadata": {},
   "outputs": [],
   "source": [
    "# define a simple search by keywords\n",
    "\n",
    "def search_df(df, **search):\n",
    "    d = df\n",
    "    for skey in search.keys():\n",
    "        d = d[d[skey]==search[skey]]\n",
    "    return d"
   ]
  },
  {
   "cell_type": "code",
   "execution_count": null,
   "metadata": {},
   "outputs": [],
   "source": [
    "# define GCSFileSystem instance and get a pre-made catalog\n",
    "\n",
    "gcs = gcsfs.GCSFileSystem(project='pangeo-181919', token='anon', access='read_only')\n",
    "dfcat = pd.read_csv('http://fletcher.ldeo.columbia.edu/catalogs/pangeo-cmip6.csv')"
   ]
  },
  {
   "cell_type": "code",
   "execution_count": null,
   "metadata": {},
   "outputs": [],
   "source": [
    "# find out what is available:\n",
    "\n",
    "dfcat.source_id.unique(),dfcat.experiment_id.unique()"
   ]
  },
  {
   "cell_type": "code",
   "execution_count": null,
   "metadata": {},
   "outputs": [],
   "source": [
    "# perform simple search:\n",
    "\n",
    "dfs = search_df(dfcat,experiment_id='historical',source_id='GISS-E2-1-H',variable_id='ts')\n",
    "dfs.zstore.values"
   ]
  },
  {
   "cell_type": "code",
   "execution_count": null,
   "metadata": {},
   "outputs": [],
   "source": [
    "# open one of these zarr stores: (requires gcsfs version >= 0.3.0 )\n",
    "\n",
    "store = dfs.zstore.values[0]\n",
    "map = gcs.get_mapper(store)\n",
    "xr.open_zarr(map)"
   ]
  }
 ],
 "metadata": {
  "kernelspec": {
   "display_name": "pangeo-latest",
   "language": "python",
   "name": "pangeo-latest"
  },
  "language_info": {
   "codemirror_mode": {
    "name": "ipython",
    "version": 3
   },
   "file_extension": ".py",
   "mimetype": "text/x-python",
   "name": "python",
   "nbconvert_exporter": "python",
   "pygments_lexer": "ipython3",
   "version": "3.7.3"
  }
 },
 "nbformat": 4,
 "nbformat_minor": 4
}
