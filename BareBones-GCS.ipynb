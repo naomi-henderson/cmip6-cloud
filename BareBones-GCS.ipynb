{
 "cells": [
  {
   "cell_type": "markdown",
   "metadata": {},
   "source": [
    "### Sample use of csv/dataframe catalog for new CMIP6 stores in gs://pangeo-cmip6 bucket"
   ]
  },
  {
   "cell_type": "code",
   "execution_count": 1,
   "metadata": {},
   "outputs": [
    {
     "data": {
      "text/plain": [
       "'0.3.0'"
      ]
     },
     "execution_count": 1,
     "metadata": {},
     "output_type": "execute_result"
    }
   ],
   "source": [
    "import pandas as pd\n",
    "import xarray as xr\n",
    "import gcsfs\n",
    "import qgrid   # please use old kernel (e.g. pangeo-Jun2019)  until qgrid is updated for jupyterlab >= 1.0.0\n",
    "gcsfs.__version__"
   ]
  },
  {
   "cell_type": "code",
   "execution_count": 2,
   "metadata": {},
   "outputs": [],
   "source": [
    "# define a simple search by keywords\n",
    "\n",
    "def search_df(df, **search):\n",
    "    d = df\n",
    "    for skey in search.keys():\n",
    "        d = d[d[skey]==search[skey]]\n",
    "    return d"
   ]
  },
  {
   "cell_type": "code",
   "execution_count": 3,
   "metadata": {},
   "outputs": [],
   "source": [
    "# define GCSFileSystem instance and get a pre-made catalog\n",
    "\n",
    "gcs = gcsfs.GCSFileSystem(project='pangeo-181919', token='anon', access='read_only')\n",
    "dfcat = pd.read_csv('http://fletcher.ldeo.columbia.edu/catalogs/pangeo-cmip6.csv')"
   ]
  },
  {
   "cell_type": "code",
   "execution_count": 4,
   "metadata": {},
   "outputs": [
    {
     "data": {
      "text/plain": [
       "(array(['UKESM1-0-LL', 'MIROC6', 'CAMS-CSM1-0', 'MPI-ESM1-2-HR', 'CanESM5',\n",
       "        'CNRM-CM6-1', 'CNRM-ESM2-1', 'GFDL-CM4', 'GFDL-ESM4', 'MRI-ESM2-0',\n",
       "        'CESM2', 'BCC-CSM2-MR', 'IPSL-CM6A-LR', 'HadGEM3-GC31-LL',\n",
       "        'GISS-E2-1-G', 'GISS-E2-1-H', 'SAM0-UNICON', 'AWI-CM-1-1-MR',\n",
       "        'EC-Earth3-LR', 'E3SM-1-0', 'CESM2-WACCM', 'BCC-ESM1', 'EC-Earth3',\n",
       "        'MIROC-ES2L', 'EC-Earth3-Veg', 'NESM3'], dtype=object),\n",
       " array(['ssp585', 'ssp245', 'piControl', 'historical'], dtype=object))"
      ]
     },
     "execution_count": 4,
     "metadata": {},
     "output_type": "execute_result"
    }
   ],
   "source": [
    "# find out what is available:\n",
    "\n",
    "dfcat.source_id.unique(),dfcat.experiment_id.unique()"
   ]
  },
  {
   "cell_type": "code",
   "execution_count": 5,
   "metadata": {},
   "outputs": [
    {
     "data": {
      "text/plain": [
       "array(['gcs://pangeo-cmip6/AR6_WG1/CMIP/NASA-GISS/GISS-E2-1-H/historical/r10i1p1f1/Amon/ts/gn/',\n",
       "       'gcs://pangeo-cmip6/AR6_WG1/CMIP/NASA-GISS/GISS-E2-1-H/historical/r4i1p1f1/Amon/ts/gn/',\n",
       "       'gcs://pangeo-cmip6/AR6_WG1/CMIP/NASA-GISS/GISS-E2-1-H/historical/r1i1p1f1/Amon/ts/gn/',\n",
       "       'gcs://pangeo-cmip6/AR6_WG1/CMIP/NASA-GISS/GISS-E2-1-H/historical/r7i1p1f1/Amon/ts/gn/',\n",
       "       'gcs://pangeo-cmip6/AR6_WG1/CMIP/NASA-GISS/GISS-E2-1-H/historical/r8i1p1f1/Amon/ts/gn/',\n",
       "       'gcs://pangeo-cmip6/AR6_WG1/CMIP/NASA-GISS/GISS-E2-1-H/historical/r6i1p1f1/Amon/ts/gn/',\n",
       "       'gcs://pangeo-cmip6/AR6_WG1/CMIP/NASA-GISS/GISS-E2-1-H/historical/r9i1p1f1/Amon/ts/gn/',\n",
       "       'gcs://pangeo-cmip6/AR6_WG1/CMIP/NASA-GISS/GISS-E2-1-H/historical/r2i1p1f1/Amon/ts/gn/',\n",
       "       'gcs://pangeo-cmip6/AR6_WG1/CMIP/NASA-GISS/GISS-E2-1-H/historical/r3i1p1f1/Amon/ts/gn/',\n",
       "       'gcs://pangeo-cmip6/AR6_WG1/CMIP/NASA-GISS/GISS-E2-1-H/historical/r5i1p1f1/Amon/ts/gn/'],\n",
       "      dtype=object)"
      ]
     },
     "execution_count": 5,
     "metadata": {},
     "output_type": "execute_result"
    }
   ],
   "source": [
    "# perform simple search:\n",
    "\n",
    "dfs = search_df(dfcat,experiment_id='historical',source_id='GISS-E2-1-H',variable_id='ts')\n",
    "dfs.zstore.values"
   ]
  },
  {
   "cell_type": "code",
   "execution_count": 6,
   "metadata": {},
   "outputs": [
    {
     "data": {
      "text/plain": [
       "<xarray.Dataset>\n",
       "Dimensions:    (bnds: 2, lat: 90, lon: 144, time: 1980)\n",
       "Coordinates:\n",
       "  * lat        (lat) float64 -89.0 -87.0 -85.0 -83.0 ... 83.0 85.0 87.0 89.0\n",
       "    lat_bnds   (lat, bnds) float64 dask.array<shape=(90, 2), chunksize=(90, 2)>\n",
       "  * lon        (lon) float64 1.25 3.75 6.25 8.75 ... 351.2 353.8 356.2 358.8\n",
       "    lon_bnds   (lon, bnds) float64 dask.array<shape=(144, 2), chunksize=(144, 2)>\n",
       "  * time       (time) object 1850-01-16 12:00:00 ... 2014-12-16 12:00:00\n",
       "    time_bnds  (time, bnds) object dask.array<shape=(1980, 2), chunksize=(1980, 2)>\n",
       "Dimensions without coordinates: bnds\n",
       "Data variables:\n",
       "    ts         (time, lat, lon) float32 dask.array<shape=(1980, 90, 144), chunksize=(600, 90, 144)>\n",
       "Attributes:\n",
       "    Conventions:            CF-1.7 CMIP-6.2\n",
       "    activity_id:            CMIP\n",
       "    branch_method:          standard\n",
       "    branch_time_in_child:   0.0\n",
       "    branch_time_in_parent:  65700.0\n",
       "    cmor_version:           3.3.2\n",
       "    contact:                Kenneth Lo (cdkkl@giss.nasa.gov)\n",
       "    creation_date:          2019-03-30T04:04:40Z\n",
       "    data_specs_version:     01.00.23\n",
       "    experiment:             all-forcing simulation of the recent past\n",
       "    experiment_id:          historical\n",
       "    external_variables:     areacella\n",
       "    forcing_index:          1\n",
       "    frequency:              mon\n",
       "    further_info_url:       https://furtherinfo.es-doc.org/CMIP6.NASA-GISS.GI...\n",
       "    grid:                   atmospheric grid: 144x90, ocean grid: 360x180\n",
       "    grid_label:             gn\n",
       "    history:                2019-03-30T04:04:40Z ; CMOR rewrote data to be co...\n",
       "    initialization_index:   1\n",
       "    institution:            Goddard Institute for Space Studies, New York, NY...\n",
       "    institution_id:         NASA-GISS\n",
       "    license:                CMIP6 model data produced by NASA Goddard Institu...\n",
       "    mip_era:                CMIP6\n",
       "    model_id:               Eh200f10j\n",
       "    nominal_resolution:     250 km\n",
       "    parent_activity_id:     CMIP\n",
       "    parent_experiment_id:   piControl\n",
       "    parent_experiment_rip:  r1i1p1\n",
       "    parent_mip_era:         CMIP6\n",
       "    parent_source_id:       GISS-E2-1-H\n",
       "    parent_time_units:      days since 3180-1-1\n",
       "    parent_variant_label:   r1i1p1f1\n",
       "    physics_index:          1\n",
       "    product:                model-output\n",
       "    realization_index:      10\n",
       "    realm:                  atmos\n",
       "    references:             https://data.giss.nasa.gov/modelE/cmip6\n",
       "    source:                 GISS-E2.1H (2016): \\naerosol: Varies with physics...\n",
       "    source_id:              GISS-E2-1-H\n",
       "    source_type:            AOGCM\n",
       "    sub_experiment:         none\n",
       "    sub_experiment_id:      none\n",
       "    table_id:               Amon\n",
       "    table_info:             Creation Date:(21 March 2018) MD5:f76dbc1e8bf6b7e...\n",
       "    title:                  GISS-E2-1-H output prepared for CMIP6\n",
       "    tracking_id:            hdl:21.14100/9e8280ee-7d56-405a-bff1-535530eadfad...\n",
       "    variable_id:            ts\n",
       "    variant_label:          r10i1p1f1"
      ]
     },
     "execution_count": 6,
     "metadata": {},
     "output_type": "execute_result"
    }
   ],
   "source": [
    "# open one of these zarr stores: (requires gcsfs version >= 0.3.0 )\n",
    "\n",
    "#store = dfs.zstore.values[0]\n",
    "#map = gcs.get_mapper(store)\n",
    "#xr.open_zarr(map)"
   ]
  },
  {
   "cell_type": "markdown",
   "metadata": {},
   "source": [
    "## New method to view, sort and select zarr stores "
   ]
  },
  {
   "cell_type": "code",
   "execution_count": 8,
   "metadata": {},
   "outputs": [
    {
     "name": "stdout",
     "output_type": "stream",
     "text": [
      "just before QgridWidget call\n"
     ]
    },
    {
     "data": {
      "application/vnd.jupyter.widget-view+json": {
       "model_id": "186eee03b3794923a7742531f1fc0f71",
       "version_major": 2,
       "version_minor": 0
      },
      "text/plain": [
       "QgridWidget(grid_options={'fullWidthRows': True, 'syncColumnCellResize': True, 'forceFitColumns': True, 'defau…"
      ]
     },
     "metadata": {},
     "output_type": "display_data"
    }
   ],
   "source": [
    "widget = qgrid.show_grid(dfcat, column_options={'editable':False})  # don't allow any of the fields to be changed\n",
    "widget"
   ]
  },
  {
   "cell_type": "code",
   "execution_count": 9,
   "metadata": {},
   "outputs": [
    {
     "name": "stdout",
     "output_type": "stream",
     "text": [
      "Choose zarr stores above by filtering or selecting:\n",
      "f - filter from available choices at the top of each column (default)\n",
      "s - select a few rows above (click and then <Shift> click or <Command> click)\n",
      "CHOOSE METHOD HERE:\n"
     ]
    }
   ],
   "source": [
    "print(\"Choose zarr stores above by filtering or selecting:\")\n",
    "print(\"f - filter from available choices at the top of each column (default)\")\n",
    "print(\"s - select a few rows above (click and then <Shift> click or <Command> click)\")\n",
    "\n",
    "print(\"CHOOSE METHOD HERE:\")\n",
    "method = 'f'"
   ]
  },
  {
   "cell_type": "code",
   "execution_count": 10,
   "metadata": {},
   "outputs": [],
   "source": [
    "if method == 's':\n",
    "    #  (a) select a few rows above (click and then <Shift> click or <Command> click)\n",
    "    #    if no zstores are listed, you didn't select any!\n",
    "    dfnew = widget.get_selected_df()\n",
    "else:\n",
    "    # use the filters available at the top of each column to select and then\n",
    "    dfnew = widget.get_changed_df()\n",
    "    "
   ]
  },
  {
   "cell_type": "code",
   "execution_count": 11,
   "metadata": {},
   "outputs": [
    {
     "name": "stdout",
     "output_type": "stream",
     "text": [
      "['gcs://pangeo-cmip6/AR6_WG1/ScenarioMIP/IPSL/IPSL-CM6A-LR/ssp585/r1i1p1f1/3hr/pr/gr/'\n",
      " 'gcs://pangeo-cmip6/AR6_WG1/ScenarioMIP/IPSL/IPSL-CM6A-LR/ssp245/r1i1p1f1/3hr/pr/gr/'\n",
      " 'gcs://pangeo-cmip6/AR6_WG1/CMIP/IPSL/IPSL-CM6A-LR/historical/r10i1p1f1/3hr/pr/gr/']\n"
     ]
    }
   ],
   "source": [
    "print(dfnew.zstore.values)"
   ]
  },
  {
   "cell_type": "code",
   "execution_count": null,
   "metadata": {},
   "outputs": [],
   "source": [
    "dfnew."
   ]
  }
 ],
 "metadata": {
  "kernelspec": {
   "display_name": "pangeo-latest",
   "language": "python",
   "name": "pangeo-latest"
  },
  "language_info": {
   "codemirror_mode": {
    "name": "ipython",
    "version": 3
   },
   "file_extension": ".py",
   "mimetype": "text/x-python",
   "name": "python",
   "nbconvert_exporter": "python",
   "pygments_lexer": "ipython3",
   "version": "3.7.3"
  }
 },
 "nbformat": 4,
 "nbformat_minor": 4
}
