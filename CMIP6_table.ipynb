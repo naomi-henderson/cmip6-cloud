{
 "cells": [
  {
   "cell_type": "markdown",
   "metadata": {},
   "source": [
    "### CMIP6 Table_id\n",
    "\n",
    "```\n",
    " table_id:       code combining frequency and realm\n",
    " frequency:      time frequency of data\n",
    " realm:          atmos, ocean, land, land ice, sea ice, ...\n",
    "```         "
   ]
  },
  {
   "cell_type": "code",
   "execution_count": 1,
   "metadata": {},
   "outputs": [
    {
     "name": "stdout",
     "output_type": "stream",
     "text": [
      "3hr : atmosphere sampled every 3 hours\n",
      "6hrLev : 6-hourly data on atmospheric model levels\n",
      "6hrPlev : 6-hourly atmospheric data on pressure levels (time mean)\n",
      "6hrPlevPt : 6-hourly atmospheric data on pressure levels (instantaneous)\n",
      "AERday : Daily atmospheric chemistry and aerosol data\n",
      "AERfx : Fixed atmospheric chemistry and aerosol data \n",
      "AERhr : Hourly atmospheric chemistry and aerosol data \n",
      "AERmon : Monthly atmospheric chemistry and aerosol data \n",
      "AERmonZ : Monthly atmospheric chemistry and aerosol data \n",
      "Amon : Monthly atmospheric data \n",
      "CF3hr : 3-hourly associated with cloud forcing \n",
      "CFday : Daily data associated with cloud forcing \n",
      "CFmon : Monthly data associated with cloud forcing \n",
      "CFsubhr : Diagnostics for cloud forcing analysis at specific sites \n",
      "E1hr : Hourly Atmospheric Data (extension) \n",
      "E1hrClimMon : Diurnal Cycle \n",
      "E3hr : 3-hourly (time mean, extension) \n",
      "E3hrPt : 3-hourly (instantaneous, extension)\n",
      "E6hrZ : 6-hourly Zonal Mean (extension) \n",
      "Eday : Daily (time mean, extension) \n",
      "EdayZ : Daily Zonal Mean (extension) \n",
      "Efx : Fixed (extension) \n",
      "Emon : Monthly (time mean, extension) \n",
      "EmonZ : Monthly zonal means (time mean, extension) \n",
      "Esubhr : Sub-hourly (extension) \n",
      "Eyr : Daily (time mean, extension)\n",
      "IfxAnt : Fixed fields on the Antarctic ice sheet \n",
      "IfxGre : Fixed fields on the Greenland ice sheet \n",
      "ImonAnt : Monthly fields on the Antarctic ice sheet \n",
      "ImonGre : Monthly fields on the Greenland ice sheet \n",
      "IyrAnt : Annual fields on the Antarctic ice sheet \n",
      "IyrGre : Annual fields on the Greenland ice sheet \n",
      "LImon : Monthly fields for the terrestrial cryosphere \n",
      "Lmon : Monthly land surface and soil model fields \n",
      "Oclim : Monthly climatologies of ocean data \n",
      "Oday : Daily ocean data \n",
      "Odec : Decadal ocean data \n",
      "Ofx : Fixed ocean data \n",
      "Omon : Monthly ocean data \n",
      "Oyr : Annual ocean variables \n",
      "SIday : Daily sea-ice data \n",
      "SImon : Monthly sea-ice data \n",
      "day : Daily Data (extension - contains both atmospheric and oceanographic data) \n",
      "fx : Fixed variables \n"
     ]
    }
   ],
   "source": [
    "# LIST OF ALL available table_ids  (see https://earthsystemcog.org/projects/wip/mip_table_about )\n",
    "import json\n",
    "\n",
    "with open('CMIP6_table_id.json') as f:\n",
    "      data = json.load(f)\n",
    "\n",
    "data1 = data['table_id']\n",
    "\n",
    "table_ids = list(data1.keys())\n",
    "\n",
    "for table_id in table_ids:\n",
    "    print(table_id,':',data1[table_id])"
   ]
  },
  {
   "cell_type": "code",
   "execution_count": 2,
   "metadata": {},
   "outputs": [
    {
     "name": "stdout",
     "output_type": "stream",
     "text": [
      "aerosol : Aerosol\n",
      "atmos : Atmosphere\n",
      "atmosChem : Atmospheric Chemistry\n",
      "land : Land Surface\n",
      "landIce : Land Ice\n",
      "ocean : Ocean\n",
      "ocnBgchem : Ocean Biogeochemistry\n",
      "seaIce : Sea Ice\n"
     ]
    }
   ],
   "source": [
    "# LIST OF ALL realms\n",
    "import json\n",
    "\n",
    "with open('CMIP6_realm.json') as f:\n",
    "      data = json.load(f)\n",
    "\n",
    "data1 = data['realm']\n",
    "realms = list(data1.keys())\n",
    "\n",
    "for realm in realms:\n",
    "    print(realm,':',data1[realm])"
   ]
  },
  {
   "cell_type": "code",
   "execution_count": 3,
   "metadata": {},
   "outputs": [
    {
     "name": "stdout",
     "output_type": "stream",
     "text": [
      "1hr : sampled hourly\n",
      "1hrCM : monthly-mean diurnal cycle resolving each day into 1-hour means\n",
      "1hrPt : sampled hourly, at specified time point within an hour\n",
      "3hr : sampled every 3 hours\n",
      "3hrPt : sampled 3 hourly, at specified time point within the time period\n",
      "6hr : sampled every 6 hours\n",
      "6hrPt : sampled 6 hourly, at specified time point within the time period\n",
      "day : daily mean samples\n",
      "dec : decadal mean samples\n",
      "fx : fixed (time invariant) field\n",
      "mon : monthly mean samples\n",
      "monC : monthly climatology computed from monthly mean samples\n",
      "monPt : sampled monthly, at specified time point within the time period\n",
      "subhrPt : sampled sub-hourly, at specified time point within an hour\n",
      "yr : annual mean samples\n",
      "yrPt : sampled yearly, at specified time point within the time period\n"
     ]
    }
   ],
   "source": [
    "# LIST OF ALL frequencies\n",
    "import json\n",
    "\n",
    "with open('CMIP6_frequency.json') as f:\n",
    "      data = json.load(f)\n",
    "\n",
    "data1 = data['frequency']\n",
    "frequencys = list(data1.keys())\n",
    "\n",
    "for frequency in frequencys:\n",
    "    print(frequency,':',data1[frequency])"
   ]
  },
  {
   "cell_type": "markdown",
   "metadata": {},
   "source": [
    "### member_id: a key constructed from 4 indices stored as global attributes:  \n",
    "\n",
    "``` \n",
    "member_id = r<k>i<l>p<m>f<n>\n",
    "    \n",
    "       where\n",
    "    \n",
    " k = realization_index\n",
    " l = initialization_index\n",
    " m = physics_index\n",
    " n = forcing_index\n",
    "```\n"
   ]
  },
  {
   "cell_type": "markdown",
   "metadata": {},
   "source": [
    "### grid_label: a key indicating if on native grid, regridded data, etc"
   ]
  },
  {
   "cell_type": "markdown",
   "metadata": {},
   "source": [
    "```\n",
    "Modeling groups may choose to report their output on the model’s native grid and/or regrid it to one or more target grids. To distinguish between output reported on different grids, a “grid_label” attribute is defined.\n",
    "\n",
    "The rules for assigning grid labels should make it easy for users to select (using the ESGF search tools) CMIP output that is on a grid considered by each\n",
    "modeling group to best represent its model -- the so-called “primary” grid. If output is reported on the native grid, this is always deemed the “primary”\n",
    "grid. If output is not reported on the native grid, then modeling groups should regrid the data to some primary grid of its choosing For the “primary”\n",
    "grid the following labels apply:\n",
    "\n",
    "grid_label = \"gn\" (output is reported on the native grid)\n",
    "grid_label = \"gr\" (output is not reported on the native grid, but instead is regridded by the modeling group to a “primary grid” of its choosing)\n",
    "grid_label = “gm” (global mean output is reported, so data are not gridded)\n",
    "\n",
    "As noted below sometimes a “z” or “a” or “g” is appended to the labels to indicate “zonal means” or grids limited to Antarctica or Greenland.\n",
    "If besides the “primary” grid, output is regridded to an additional grid, then for this output:\n",
    "grid_label = \"gr[i]\" (a “secondary” grid), where <i> should be replaced by a positive integer less than 10, which distinguishes this output from\n",
    "other regridded output.\n",
    "\n",
    "Note that:\n",
    "➢ If model output is reported on a native grid, then if regridded output is also reported, it must not be labeled “gr”, but instead should be of the\n",
    "form gr[i] (e.g,, gr1, gr2, ….).\n",
    "➢ The grid label provides no information about the grid other than to indicate whether or not the data have been regridded (from the native grid)\n",
    "and whether or not the grid is considered to be a “primary” grid by the data provider.\n",
    "➢ Output for different variables may be reported on different grids, so “gn” and “gr” may not uniquely define a grid even within a single model.\n",
    "➢ If a variable is reported on more than one grid, one of these grids must be labeled “gn” or “gr” (as appropriate), and others must be labeled as\n",
    "secondary grids (“gr1”, “gr2”, etc.).\n",
    "➢ The grid labels (“gr1”, “gr2”, etc.) must be defined consistently for all variables reported from a single model on the same secondary grid. Thus,\n",
    "if “gr3” indicates output on a 2x2 degree grid for one variable, then the same label should be used for other variables output on this grid (unless\n",
    "for another variable output is considered to be primary, in which case the output would be labeled “gn” or “gr”, as appropriate).\n",
    "➢ Output on the same grid but from different models will usually not be labeled with the same grid_label, since data providers independently\n",
    "assign the labels.\n",
    "➢ A “nominal_resolution” attribute must be defined as specified in Appendix 2, and a brief description of the grid should be recorded in the “grid”\n",
    "global attribute (see note 10).\n",
    "➢ For zonal mean output, a “z” should be appended to the grid label that would apply before performing the zonal mean (e.g., \"gnz\", \"grz\", \"gr2z\").\n",
    "The \"gnz\" label would likely only be appropriate when zonally-averaging data on a native cartesian latxlon grid.\n",
    "➢ For “site” data the label \"gn\" should be used presuming data are obtained from the single native grid cell located nearest each site.\n",
    "➢ For “transport through a straight” (and the like), the grid label should reflect the grid relied on in calculating the transport (presumably the\n",
    "native grid would be best for this purpose, so “gn”).\n",
    "➢ For output reported only over the region centered on Greenland, “g” should be appended to the grid_label (e.g., “gng”, “grg”, “gr1g”). Similarly\n",
    "for output reported only over the region centered on Antarctica, “a” should be appended to the grid_label.\n",
    "```"
   ]
  },
  {
   "cell_type": "code",
   "execution_count": null,
   "metadata": {},
   "outputs": [],
   "source": []
  },
  {
   "cell_type": "code",
   "execution_count": null,
   "metadata": {},
   "outputs": [],
   "source": []
  }
 ],
 "metadata": {
  "kernelspec": {
   "display_name": "pangeo-Jun2019",
   "language": "python",
   "name": "pangeojun2019"
  },
  "language_info": {
   "codemirror_mode": {
    "name": "ipython",
    "version": 3
   },
   "file_extension": ".py",
   "mimetype": "text/x-python",
   "name": "python",
   "nbconvert_exporter": "python",
   "pygments_lexer": "ipython3",
   "version": "3.6.7"
  }
 },
 "nbformat": 4,
 "nbformat_minor": 4
}
