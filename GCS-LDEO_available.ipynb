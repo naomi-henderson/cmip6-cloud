{
 "cells": [
  {
   "cell_type": "markdown",
   "metadata": {},
   "source": [
    "### Sample use of Qgrid to explore the current CMIP6 zarr stores in Google Cloud"
   ]
  },
  {
   "cell_type": "code",
   "execution_count": null,
   "metadata": {},
   "outputs": [],
   "source": [
    "import pandas as pd\n",
    "import xarray as xr\n",
    "import gcsfs\n",
    "import qgrid "
   ]
  },
  {
   "cell_type": "code",
   "execution_count": null,
   "metadata": {},
   "outputs": [],
   "source": [
    "# Read in the CMIP6 Hackathon Google Cloud catalog into a panda dataframe:\n",
    "\n",
    "dfcat = pd.read_csv('http://fletcher.ldeo.columbia.edu/catalogs/pangeo-cmip6.csv')\n",
    "print('This catalog contains the',dfcat.zstore.count(),'CMIP6 datasets (zarr stores) currently available')"
   ]
  },
  {
   "cell_type": "markdown",
   "metadata": {},
   "source": [
    "## The next cell opens a widget. The column labels are the official CMIP6 categories (keys). \n",
    "\n",
    "### Recall the basic categories of the CMIP6 collection (the "Controlled Vocabularies"): \n",
    "- `experiment_id`: the type of experiment\n",
    "- `source_id`: the model\n",
    "- `member_id`: the ensemble member code\n",
    "- `table_id`: the shorthand code for realm and frequency of the data\n",
    "\n",
    "### You can:\n",
    "- click on the filter symbol to make choices\n",
    "- click on column label to sort\n",
    "\n",
    "### You can also:\n",
    "- clear filter choices after you make them\n",
    "- reset whole widget by re-running the cell"
   ]
  },
  {
   "cell_type": "code",
   "execution_count": null,
   "metadata": {},
   "outputs": [],
   "source": [
    "# the dataframe contains some redundant keys, lets view the catalog without them for now\n",
    "\n",
    "keys_all = list(dfcat.keys())\n",
    "keys_show = [\"source_id\",\"experiment_id\",\"member_id\",\"table_id\",\"variable_id\",'grid_label','zstore']\n",
    "keys_drop = list(set(keys_all) - set(keys_show))\n",
    "\n",
    "widget = qgrid.show_grid(dfcat.drop(keys_drop,1), column_definitions={'zstore':{'width':800}}, column_options={'editable':False})\n",
    "\n",
    "widget"
   ]
  },
  {
   "cell_type": "markdown",
   "metadata": {},
   "source": [
    "## Now you can save the choices you made in a new dataframe"
   ]
  },
  {
   "cell_type": "code",
   "execution_count": null,
   "metadata": {},
   "outputs": [],
   "source": [
    "print(\"Choose zarr stores above by filtering or selecting:\")\n",
    "print(\"f - filter from available choices at the top of each column (default)\")\n",
    "print(\"s - select a few rows above (click and then <Shift> click or <Command> click)\")\n",
    "\n",
    "print(\"CHOOSE METHOD HERE:\")\n",
    "method = 'f'"
   ]
  },
  {
   "cell_type": "code",
   "execution_count": null,
   "metadata": {},
   "outputs": [],
   "source": [
    "if method == 's':\n",
    "    #  (a) select a few rows above (click and then <Shift> click or <Command> click)\n",
    "    #    if no zstores are listed, you didn't select any!\n",
    "    dfnew = widget.get_selected_df()\n",
    "else:\n",
    "    # use the filters available at the top of each column to select and then\n",
    "    dfnew = widget.get_changed_df()\n",
    "    "
   ]
  },
  {
   "cell_type": "code",
   "execution_count": null,
   "metadata": {},
   "outputs": [],
   "source": [
    "print(dfnew.zstore.values)"
   ]
  },
  {
   "cell_type": "code",
   "execution_count": null,
   "metadata": {},
   "outputs": [],
   "source": [
    "# define GCSFileSystem instance and get the CMIP6 catalog\n",
    "gcs = gcsfs.GCSFileSystem(project='pangeo-181919', token='anon', access='read_only')\n",
    "\n",
    "store = dfnew.zstore.values[0]\n",
    "map = gcs.get_mapper(store)\n",
    "xr.open_zarr(map)"
   ]
  },
  {
   "cell_type": "code",
   "execution_count": null,
   "metadata": {},
   "outputs": [],
   "source": []
  }
 ],
 "metadata": {
  "kernelspec": {
   "display_name": "pangeo-Jun2019",
   "language": "python",
   "name": "pangeojun2019"
  },
  "language_info": {
   "codemirror_mode": {
    "name": "ipython",
    "version": 3
   },
   "file_extension": ".py",
   "mimetype": "text/x-python",
   "name": "python",
   "nbconvert_exporter": "python",
   "pygments_lexer": "ipython3",
   "version": "3.6.7"
  }
 },
 "nbformat": 4,
 "nbformat_minor": 4
}
